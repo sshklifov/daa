{
 "cells": [
  {
   "cell_type": "markdown",
   "metadata": {},
   "source": [
    "# Сравнение на решенията на maximal subarray problem\n",
    "\n",
    "Целта на този notebook е да покаже графично разликата в 3 решения на проблема:\n",
    "* найвно n^3 решение\n",
    "* подобрено, но все пак далеч от оптимално, n^2 решение.\n",
    "* n*logn решение, използвайки divide and conquer\n",
    "\n",
    "Това постигаме, като засичаме скоростта на алгоритмите с малък брой входове и чрез тях възстановяваме цялата графика при всички n (размери на входния масив). Не обръщайте внимание на кода, той не засяга курса по ДАА. Интересна е последната клетка на notebook-а."
   ]
  },
  {
   "cell_type": "code",
   "execution_count": 1,
   "metadata": {},
   "outputs": [],
   "source": [
    "from __future__ import print_function\n",
    "from ipywidgets import interact, interactive, fixed, interact_manual\n",
    "import ipywidgets as widgets\n",
    "\n",
    "import numpy as np\n",
    "import matplotlib\n",
    "import matplotlib.pyplot as plt\n",
    "import pandas as pd\n",
    "\n",
    "from sklearn.linear_model import LinearRegression\n",
    "from sklearn.model_selection import train_test_split\n",
    "\n",
    "%matplotlib inline\n",
    "\n",
    "import warnings\n",
    "warnings.simplefilter(action='ignore', category=FutureWarning)"
   ]
  },
  {
   "cell_type": "code",
   "execution_count": 2,
   "metadata": {},
   "outputs": [],
   "source": [
    "df = pd.read_csv(\"~/Documents/daa/csv/maxsubarr.csv\")\n",
    "df['mean'] = df.apply(lambda x: x[2:7].mean(), axis=1)\n",
    "\n",
    "bv = df.complexity=='cub'\n",
    "cub = df[bv].copy()\n",
    "cub.index = range(0, cub.shape[0])\n",
    "\n",
    "bv = df.complexity=='quad'\n",
    "quad = df[bv].copy()\n",
    "quad.index = range(0, quad.shape[0])\n",
    "\n",
    "bv = df.complexity=='nlogn'\n",
    "nlogn = df[bv].copy()\n",
    "nlogn.index = range(0, nlogn.shape[0])"
   ]
  },
  {
   "cell_type": "code",
   "execution_count": 3,
   "metadata": {},
   "outputs": [
    {
     "data": {
      "image/png": "[encoded data removed]",
      "text/plain": [
       "<Figure size 432x288 with 1 Axes>"
      ]
     },
     "metadata": {
      "needs_background": "light"
     },
     "output_type": "display_data"
    }
   ],
   "source": [
    "cub['n^2'] = cub.n.apply(lambda x: x*x)\n",
    "cub['n^3'] = cub.n.apply(lambda x: x*x*x)\n",
    "\n",
    "X = cub[['n', 'n^2', 'n^3']]\n",
    "y = cub['mean']\n",
    "\n",
    "model_cub = LinearRegression().fit(X, y)\n",
    "\n",
    "xs = np.arange(start=5, stop=2000, step=10)\n",
    "M = pd.DataFrame(data={'n':xs, 'n^2':np.power(xs, 2), 'n^3':np.power(xs, 3)})\n",
    "ys = model_cub.predict(M)\n",
    "\n",
    "plt.plot(xs,ys);\n",
    "plt.scatter(cub['n'], y);"
   ]
  },
  {
   "cell_type": "code",
   "execution_count": 4,
   "metadata": {},
   "outputs": [
    {
     "data": {
      "image/png": "[encoded data removed]",
      "text/plain": [
       "<Figure size 432x288 with 1 Axes>"
      ]
     },
     "metadata": {
      "needs_background": "light"
     },
     "output_type": "display_data"
    }
   ],
   "source": [
    "quad['n^2'] = quad.n.apply(lambda x: x*x)\n",
    "\n",
    "X = quad[['n', 'n^2']]\n",
    "y = quad['mean']\n",
    "\n",
    "model_quad = LinearRegression().fit(X, y)\n",
    "\n",
    "xs = np.arange(start=5, stop=10000, step=100)\n",
    "M = pd.DataFrame(data={'n':xs, 'n^2':np.power(xs, 2)})\n",
    "ys = model_quad.predict(M)\n",
    "\n",
    "plt.plot(xs,ys);\n",
    "plt.scatter(quad['n'], y);"
   ]
  },
  {
   "cell_type": "code",
   "execution_count": 5,
   "metadata": {},
   "outputs": [
    {
     "data": {
      "image/png": "[encoded data removed]",
      "text/plain": [
       "<Figure size 432x288 with 1 Axes>"
      ]
     },
     "metadata": {
      "needs_background": "light"
     },
     "output_type": "display_data"
    }
   ],
   "source": [
    "nlogn['nlogn'] = nlogn.n.apply(lambda x: x*np.log(x))\n",
    "\n",
    "X = nlogn[['n', 'nlogn']]\n",
    "y = nlogn['mean']\n",
    "\n",
    "model_nlogn = LinearRegression().fit(X, y)\n",
    "\n",
    "xs = np.arange(start=5, stop=5000000, step=50000)\n",
    "M = pd.DataFrame(data={'n':xs, 'nlogn':xs*np.log(xs)})\n",
    "ys = model_nlogn.predict(M)\n",
    "\n",
    "plt.plot(xs,ys);\n",
    "plt.scatter(nlogn['n'], y);"
   ]
  },
  {
   "cell_type": "code",
   "execution_count": 6,
   "metadata": {},
   "outputs": [],
   "source": [
    "def plotComplexity(a, b, plot_nlogn, plot_quadratic, plot_cubic):\n",
    "    if a >= b:\n",
    "        print (\"invalid range\")\n",
    "        return\n",
    "    \n",
    "    samples = 100\n",
    "    xs = np.arange(start=a, stop=b, step=(b-a)/samples)\n",
    "    M = pd.DataFrame(data={'n':xs, 'nlogn':xs*np.log(xs), 'n^2': np.power(xs, 2), 'n^3':np.power(xs, 3)})\n",
    "    y_nlogn = model_nlogn.predict(M[['n', 'nlogn']])\n",
    "    y_quad = model_quad.predict(M[['n', 'n^2']])\n",
    "    y_cub = model_cub.predict(M[['n', 'n^2', 'n^3']])\n",
    "    \n",
    "    plt.figure(figsize=(15, 6))\n",
    "    if plot_nlogn:\n",
    "        plt.plot(xs, y_nlogn, color=\"green\", label=\"nlogn\")\n",
    "    if plot_quadratic:\n",
    "        plt.plot(xs, y_quad, color=\"orange\", label=\"quad\")\n",
    "    if plot_cubic:\n",
    "        plt.plot(xs, y_cub, color=\"red\", label=\"cub\")"
   ]
  },
  {
   "cell_type": "markdown",
   "metadata": {},
   "source": [
    "### Резултат\n",
    "\n",
    "Отдолу са plot-нати трите графики на алгоритмите. *Зелената* е най-бързата (nlogn), *жълтата* е квадратичната и *червената* е кубичната. По x пише големина на входния масив, а по y пише колко секунди трябват на алгоритъма да приключи.\n",
    "Графиката ще е в интервала `[a, b]`.\n",
    "\n",
    "**N.B.** Графиката е разтегната и може някоя функция да изглежда като константна или линейна -- не е, просто така е визуализирана. Използвайте тикчетата, за да махнете бързо растящите функции, когато те доминират другите."
   ]
  },
  {
   "cell_type": "code",
   "execution_count": 7,
   "metadata": {},
   "outputs": [
    {
     "data": {
      "application/vnd.jupyter.widget-view+json": {
       "model_id": "9c9abb9b4cf94d3f9f23ee944e175583",
       "version_major": 2,
       "version_minor": 0
      },
      "text/plain": [
       "interactive(children=(IntSlider(value=100, description='a', max=1000000, min=100), IntSlider(value=1000, descr…"
      ]
     },
     "metadata": {},
     "output_type": "display_data"
    }
   ],
   "source": [
    "interact (plotComplexity, a=widgets.IntSlider(min=100, max=1e6, value=1e2),\n",
    "         b=widgets.IntSlider(min=1, max=1e6, value=1e3),\n",
    "         plot_nlogn=True,\n",
    "         plot_quadratic=True,\n",
    "         plot_cubic=True);"
   ]
  },
  {
   "cell_type": "markdown",
   "metadata": {},
   "source": [
    "### Заключение\n",
    "\n",
    "Вижда се, че има голяма разлика в алгоритмите откъм скорост. За всички реалистични входове, nlogn решението работи мигновенно, докато\n",
    "при n = 1 милион ще трябва да чакаме 2е8 секунди, което е **малко над 6 години**!"
   ]
  }
 ],
 "metadata": {
  "kernelspec": {
   "display_name": "Python 3",
   "language": "python",
   "name": "python3"
  },
  "language_info": {
   "codemirror_mode": {
    "name": "ipython",
    "version": 3
   },
   "file_extension": ".py",
   "mimetype": "text/x-python",
   "name": "python",
   "nbconvert_exporter": "python",
   "pygments_lexer": "ipython3",
   "version": "3.7.2"
  }
 },
 "nbformat": 4,
 "nbformat_minor": 2
}
