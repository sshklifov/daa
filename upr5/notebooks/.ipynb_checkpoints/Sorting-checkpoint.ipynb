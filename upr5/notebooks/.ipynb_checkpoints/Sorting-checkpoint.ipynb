{
 "cells": [
  {
   "cell_type": "markdown",
   "metadata": {},
   "source": [
    "# Quicksort analysis\n",
    "\n",
    "Quicksort е със средна сложност nlogn, но може да достигне n^2. Неговата сложност зависи от подредбата на входните данни, не само от големината на входа.\n",
    "\n",
    "Нека фиксираме броя елементи да е 100 хиляди. Ако направим голям брой тестове, където генерираме случайна пермутация и засичаме колко време се извършва сортирането, може да придобием представа колко е вероятно да работи за определено време.\n",
    "\n",
    "Важно е:\n",
    "* пермутацията да е наистина равномерно разпределена\n",
    "* голям брой тестове (в случая 100 милиона)\n",
    "* да не използваме евристика за намиране на pivot (median of three, например)"
   ]
  },
  {
   "cell_type": "code",
   "execution_count": 1,
   "metadata": {},
   "outputs": [],
   "source": [
    "from __future__ import print_function\n",
    "from ipywidgets import interact, interactive, fixed, interact_manual\n",
    "import ipywidgets as widgets\n",
    "\n",
    "import numpy as np\n",
    "import matplotlib\n",
    "import matplotlib.pyplot as plt\n",
    "import seaborn as sns\n",
    "import pandas as pd\n",
    "\n",
    "%matplotlib inline\n",
    "\n",
    "import warnings\n",
    "warnings.simplefilter(action='ignore', category=FutureWarning)"
   ]
  },
  {
   "cell_type": "markdown",
   "metadata": {},
   "source": [
    "### Дистрибуция\n",
    "\n",
    "Долната графика има следното значение. Оста x е време на работа в секунди. Оста y е честота (брой тестове). При фиксирано x, y показва колко от пермутациите са завършили за време x. Така колкото по-нависоко е графиката за някое x, толкова по-вероятно е алгоритъма да приключи за време x."
   ]
  },
  {
   "cell_type": "code",
   "execution_count": 2,
   "metadata": {},
   "outputs": [
    {
     "data": {
      "image/png": "[encoded data removed]",
      "text/plain": [
       "<Figure size 1080x360 with 1 Axes>"
      ]
     },
     "metadata": {
      "needs_background": "light"
     },
     "output_type": "display_data"
    }
   ],
   "source": [
    "df = pd.read_csv(\"~/Documents/daa/csv/quicksort.csv\", header=None)\n",
    "series = df.loc[0]\n",
    "\n",
    "plt.figure (figsize=(15, 5))\n",
    "sns.distplot(series);"
   ]
  },
  {
   "cell_type": "code",
   "execution_count": 3,
   "metadata": {},
   "outputs": [
    {
     "name": "stdout",
     "output_type": "stream",
     "text": [
      "number of runs > 0.0014s: 22\n"
     ]
    }
   ],
   "source": [
    "print (\"number of runs > 0.0014s:\", (series > 0.014).sum())"
   ]
  },
  {
   "cell_type": "markdown",
   "metadata": {},
   "source": [
    "Вижда се ясно, че програмата **с голяма вероятност** ще завърши за време около *0.0126s*. Когато тръгваме да се отдалечаваме от тази стойност, вероятността намаля много бързо. Тоест при големи n, ако входа наистина е случаен, няма опастност quicksort да работи бавно, напротив -- ще работи доста бързо.\n",
    "\n",
    "**N.B.** В най-лошия случай отнема около *10.878030* секунди. На оста x няма число, което да е и близо до тази\n",
    "стойност. Тоест, дори при 1 милион тестове, не успяхме да се доближим дори и малко до най-лошия случай на quicksort. Нека си припомним, че общия брой пермутации е 200'000!. Спрямо това масивно число много малко са неблагоприятни.\n",
    "\n",
    "Заключение: За малки n разликата в бързите и бавните сортировки не е ясно изразена и няма значение на коя пермутация ще попаднем. За големи n не е реалистично да попаднем на неблагоприятна пермутация.\n",
    "\n",
    "### Сравнение на бързите сортировки\n",
    "\n",
    "Нека сравним времето за работа на:\n",
    "* quicksort с hoar partitioning\n",
    "* quicksort с lomuto partitioning\n",
    "* mergesort\n",
    "* std::sort"
   ]
  },
  {
   "cell_type": "code",
   "execution_count": 4,
   "metadata": {},
   "outputs": [],
   "source": [
    "df = pd.read_csv(\"~/Documents/daa/csv/sort.csv\")\n",
    "\n",
    "def plotComplexity(hoar, lomuto, merge, std):\n",
    "    useAlgs=[]\n",
    "    if hoar:\n",
    "        useAlgs.append ('hoar')\n",
    "    if lomuto:\n",
    "        useAlgs.append ('lomuto')\n",
    "    if merge:\n",
    "        useAlgs.append ('merge')\n",
    "    if std:\n",
    "        useAlgs.append ('std')\n",
    "    \n",
    "    plt.figure (figsize=(15, 8))\n",
    "    bv = df.alg.apply(lambda x: x in useAlgs)\n",
    "    sns.scatterplot(x='n', y='secs', hue='alg', data=df[bv]);"
   ]
  },
  {
   "cell_type": "code",
   "execution_count": 5,
   "metadata": {},
   "outputs": [
    {
     "data": {
      "application/vnd.jupyter.widget-view+json": {
       "model_id": "108521d4a0024b4f94b0f20af9c2741b",
       "version_major": 2,
       "version_minor": 0
      },
      "text/plain": [
       "interactive(children=(Checkbox(value=True, description='hoar'), Checkbox(value=True, description='lomuto'), Ch…"
      ]
     },
     "metadata": {},
     "output_type": "display_data"
    }
   ],
   "source": [
    "interact(plotComplexity, hoar=True, lomuto=True, merge=False, std=False);"
   ]
  },
  {
   "cell_type": "markdown",
   "metadata": {},
   "source": [
    "От графиката може да заключим, че:\n",
    "* mergesort работи по-бавно от другите сортировки\n",
    "* lomuto при тази големина на входа изглежда малко по-бърз *(hoar би трябвало да е по-бързият)*\n",
    "* прилично близо сме до std::sort, но при по-големи n разликата ще стане явна"
   ]
  }
 ],
 "metadata": {
  "kernelspec": {
   "display_name": "Python 3",
   "language": "python",
   "name": "python3"
  },
  "language_info": {
   "codemirror_mode": {
    "name": "ipython",
    "version": 3
   },
   "file_extension": ".py",
   "mimetype": "text/x-python",
   "name": "python",
   "nbconvert_exporter": "python",
   "pygments_lexer": "ipython3",
   "version": "3.7.2"
  }
 },
 "nbformat": 4,
 "nbformat_minor": 2
}
